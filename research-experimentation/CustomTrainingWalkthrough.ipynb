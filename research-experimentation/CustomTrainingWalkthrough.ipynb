{
 "cells": [
  {
   "cell_type": "code",
   "execution_count": 1,
   "metadata": {},
   "outputs": [],
   "source": [
    "import os\n",
    "\n",
    "import matplotlib.pyplot as plt\n",
    "\n",
    "import tensorflow as tf\n",
    "import tensorflow.contrib.eager as tfe"
   ]
  },
  {
   "cell_type": "code",
   "execution_count": 2,
   "metadata": {},
   "outputs": [],
   "source": [
    "tf.enable_eager_execution()"
   ]
  },
  {
   "cell_type": "code",
   "execution_count": 3,
   "metadata": {},
   "outputs": [
    {
     "data": {
      "text/plain": [
       "'1.10.0'"
      ]
     },
     "execution_count": 3,
     "metadata": {},
     "output_type": "execute_result"
    }
   ],
   "source": [
    "tf.__version__"
   ]
  },
  {
   "cell_type": "code",
   "execution_count": 4,
   "metadata": {},
   "outputs": [
    {
     "data": {
      "text/plain": [
       "True"
      ]
     },
     "execution_count": 4,
     "metadata": {},
     "output_type": "execute_result"
    }
   ],
   "source": [
    "tf.executing_eagerly()"
   ]
  },
  {
   "cell_type": "markdown",
   "metadata": {},
   "source": [
    "## Get Dataset"
   ]
  },
  {
   "cell_type": "markdown",
   "metadata": {},
   "source": [
    "### Download Data"
   ]
  },
  {
   "cell_type": "code",
   "execution_count": 5,
   "metadata": {},
   "outputs": [
    {
     "data": {
      "text/plain": [
       "'/home/ec2-user/.keras/datasets/iris_training.csv'"
      ]
     },
     "execution_count": 5,
     "metadata": {},
     "output_type": "execute_result"
    }
   ],
   "source": [
    "train_dataset_url = \"http://download.tensorflow.org/data/iris_training.csv\"\n",
    "dataset_filepath = tf.keras.utils.get_file(os.path.basename(train_dataset_url), origin=train_dataset_url)\n",
    "\n",
    "dataset_filepath"
   ]
  },
  {
   "cell_type": "markdown",
   "metadata": {},
   "source": [
    "### Inspect Data"
   ]
  },
  {
   "cell_type": "code",
   "execution_count": 6,
   "metadata": {},
   "outputs": [
    {
     "name": "stdout",
     "output_type": "stream",
     "text": [
      "120,4,setosa,versicolor,virginica\r\n",
      "6.4,2.8,5.6,2.2,2\r\n",
      "5.0,2.3,3.3,1.0,1\r\n",
      "4.9,2.5,4.5,1.7,2\r\n",
      "4.9,3.1,1.5,0.1,0\r\n"
     ]
    }
   ],
   "source": [
    "!head -n5 {dataset_filepath}"
   ]
  },
  {
   "cell_type": "code",
   "execution_count": 7,
   "metadata": {},
   "outputs": [
    {
     "data": {
      "text/plain": [
       "['sepal_length', 'sepal_width', 'petal_length', 'petal_width', 'species']"
      ]
     },
     "execution_count": 7,
     "metadata": {},
     "output_type": "execute_result"
    }
   ],
   "source": [
    "feature_names = ['sepal_length', 'sepal_width',  'petal_length', 'petal_width']\n",
    "\n",
    "label_name = ['species']\n",
    "columns = feature_names + label_name\n",
    "columns\n"
   ]
  },
  {
   "cell_type": "code",
   "execution_count": 8,
   "metadata": {},
   "outputs": [
    {
     "data": {
      "text/plain": [
       "['Iris setosa', 'Iris versicolor', 'Iris virginica']"
      ]
     },
     "execution_count": 8,
     "metadata": {},
     "output_type": "execute_result"
    }
   ],
   "source": [
    "class_names = ['Iris setosa', 'Iris versicolor', 'Iris virginica']\n",
    "class_names"
   ]
  },
  {
   "cell_type": "markdown",
   "metadata": {},
   "source": [
    "### Create Dataset"
   ]
  },
  {
   "cell_type": "code",
   "execution_count": 9,
   "metadata": {},
   "outputs": [
    {
     "data": {
      "text/plain": [
       "<PrefetchDataset shapes: (OrderedDict([(sepal_length, (?,)), (sepal_width, (?,)), (petal_length, (?,)), (petal_width, (?,))]), (?,)), types: (OrderedDict([(sepal_length, tf.float32), (sepal_width, tf.float32), (petal_length, tf.float32), (petal_width, tf.float32)]), tf.int32)>"
      ]
     },
     "execution_count": 9,
     "metadata": {},
     "output_type": "execute_result"
    }
   ],
   "source": [
    "batch_size = 32\n",
    "\n",
    "train_dataset = tf.contrib.data.make_csv_dataset(dataset_filepath, batch_size, column_names=columns, label_name=label_name[0],\n",
    "    num_epochs=1)\n",
    "train_dataset"
   ]
  },
  {
   "cell_type": "code",
   "execution_count": 10,
   "metadata": {},
   "outputs": [
    {
     "data": {
      "text/plain": [
       "OrderedDict([('sepal_length',\n",
       "              <tf.Tensor: id=60, shape=(32,), dtype=float32, numpy=\n",
       "              array([4.4, 6.7, 5.7, 6.4, 5. , 5. , 6.9, 5.8, 6.9, 5.1, 6.7, 5.7, 6. ,\n",
       "                     5. , 6.2, 6.5, 5.5, 6.6, 6.1, 6.9, 4.8, 5.4, 4.4, 5.5, 5.8, 5.1,\n",
       "                     7.4, 5.8, 6.7, 6.8, 6. , 4.9], dtype=float32)>),\n",
       "             ('sepal_width',\n",
       "              <tf.Tensor: id=61, shape=(32,), dtype=float32, numpy=\n",
       "              array([2.9, 3. , 2.9, 3.1, 3.4, 3.6, 3.1, 2.8, 3.1, 3.8, 3.1, 2.8, 2.2,\n",
       "                     3.2, 2.8, 3. , 2.4, 3. , 2.8, 3.2, 3.1, 3. , 3.2, 3.5, 2.7, 3.7,\n",
       "                     2.8, 2.6, 3. , 3.2, 2.7, 3.1], dtype=float32)>),\n",
       "             ('petal_length',\n",
       "              <tf.Tensor: id=58, shape=(32,), dtype=float32, numpy=\n",
       "              array([1.4, 5. , 4.2, 5.5, 1.5, 1.4, 5.1, 5.1, 4.9, 1.5, 5.6, 4.5, 5. ,\n",
       "                     1.2, 4.8, 5.8, 3.8, 4.4, 4.7, 5.7, 1.6, 4.5, 1.3, 1.3, 5.1, 1.5,\n",
       "                     6.1, 4. , 5.2, 5.9, 5.1, 1.5], dtype=float32)>),\n",
       "             ('petal_width',\n",
       "              <tf.Tensor: id=59, shape=(32,), dtype=float32, numpy=\n",
       "              array([0.2, 1.7, 1.3, 1.8, 0.2, 0.2, 2.3, 2.4, 1.5, 0.3, 2.4, 1.3, 1.5,\n",
       "                     0.2, 1.8, 2.2, 1.1, 1.4, 1.2, 2.3, 0.2, 1.5, 0.2, 0.2, 1.9, 0.4,\n",
       "                     1.9, 1.2, 2.3, 2.3, 1.6, 0.1], dtype=float32)>)])"
      ]
     },
     "execution_count": 10,
     "metadata": {},
     "output_type": "execute_result"
    }
   ],
   "source": [
    "features, labels = next(iter(train_dataset))\n",
    "features"
   ]
  },
  {
   "cell_type": "code",
   "execution_count": 11,
   "metadata": {},
   "outputs": [
    {
     "data": {
      "text/plain": [
       "<tf.Tensor: id=62, shape=(32,), dtype=int32, numpy=\n",
       "array([0, 1, 1, 2, 0, 0, 2, 2, 1, 0, 2, 1, 2, 0, 2, 2, 1, 1, 1, 2, 0, 1,\n",
       "       0, 0, 2, 0, 2, 1, 2, 2, 1, 0], dtype=int32)>"
      ]
     },
     "execution_count": 11,
     "metadata": {},
     "output_type": "execute_result"
    }
   ],
   "source": [
    "labels"
   ]
  },
  {
   "cell_type": "code",
   "execution_count": 12,
   "metadata": {},
   "outputs": [
    {
     "data": {
      "image/png": "[encoded data removed]",
      "text/plain": [
       "<Figure size 432x288 with 1 Axes>"
      ]
     },
     "metadata": {},
     "output_type": "display_data"
    }
   ],
   "source": [
    "# graph some features, sepal length as a function of petal length\n",
    "plt.scatter(features['petal_length'], features['sepal_length'], c=labels)\n",
    "plt.xlabel(\"Petal Length\")\n",
    "plt.ylabel(\"Sepal Length\")\n",
    "plt.show()"
   ]
  },
  {
   "cell_type": "code",
   "execution_count": 13,
   "metadata": {},
   "outputs": [
    {
     "data": {
      "image/png": "[encoded data removed]",
      "text/plain": [
       "<Figure size 432x288 with 1 Axes>"
      ]
     },
     "metadata": {},
     "output_type": "display_data"
    }
   ],
   "source": [
    "# sepal width as a function of petal width\n",
    "plt.scatter(features['petal_width'], features['sepal_width'], c=labels)\n",
    "plt.xlabel(\"Petal Width\")\n",
    "plt.ylabel(\"Sepal Width\")\n",
    "plt.show()"
   ]
  },
  {
   "cell_type": "code",
   "execution_count": 14,
   "metadata": {},
   "outputs": [],
   "source": [
    "# method to pack features into a single array\n",
    "def pack_features_vector(features, labels):\n",
    "    features = tf.stack(list(features.values()), axis=1)\n",
    "    return features, labels"
   ]
  },
  {
   "cell_type": "code",
   "execution_count": 15,
   "metadata": {},
   "outputs": [
    {
     "data": {
      "text/plain": [
       "<MapDataset shapes: ((?, 4), (?,)), types: (tf.float32, tf.int32)>"
      ]
     },
     "execution_count": 15,
     "metadata": {},
     "output_type": "execute_result"
    }
   ],
   "source": [
    "train_dataset = train_dataset.map(pack_features_vector)\n",
    "train_dataset"
   ]
  },
  {
   "cell_type": "code",
   "execution_count": 16,
   "metadata": {},
   "outputs": [
    {
     "data": {
      "text/plain": [
       "<tf.Tensor: id=149, shape=(32, 4), dtype=float32, numpy=\n",
       "array([[6.5, 3. , 5.2, 2. ],\n",
       "       [4.9, 3.1, 1.5, 0.1],\n",
       "       [5.6, 2.9, 3.6, 1.3],\n",
       "       [6.9, 3.1, 4.9, 1.5],\n",
       "       [4.7, 3.2, 1.3, 0.2],\n",
       "       [7.2, 3.6, 6.1, 2.5],\n",
       "       [6.4, 2.8, 5.6, 2.1],\n",
       "       [6.3, 2.5, 5. , 1.9],\n",
       "       [7.9, 3.8, 6.4, 2. ],\n",
       "       [4.7, 3.2, 1.6, 0.2],\n",
       "       [5.2, 2.7, 3.9, 1.4],\n",
       "       [4.9, 2.5, 4.5, 1.7],\n",
       "       [6.9, 3.1, 5.1, 2.3],\n",
       "       [5. , 3.4, 1.6, 0.4],\n",
       "       [4.6, 3.1, 1.5, 0.2],\n",
       "       [4.8, 3.1, 1.6, 0.2],\n",
       "       [5.8, 4. , 1.2, 0.2],\n",
       "       [5.6, 2.5, 3.9, 1.1],\n",
       "       [5.4, 3.9, 1.7, 0.4],\n",
       "       [4.6, 3.6, 1. , 0.2],\n",
       "       [5.9, 3. , 5.1, 1.8],\n",
       "       [5.5, 2.4, 3.8, 1.1],\n",
       "       [6.3, 3.3, 6. , 2.5],\n",
       "       [6. , 2.7, 5.1, 1.6],\n",
       "       [5.8, 2.7, 5.1, 1.9],\n",
       "       [4.9, 3. , 1.4, 0.2],\n",
       "       [6. , 2.2, 5. , 1.5],\n",
       "       [6.3, 2.3, 4.4, 1.3],\n",
       "       [7.7, 3. , 6.1, 2.3],\n",
       "       [6.5, 3. , 5.8, 2.2],\n",
       "       [6. , 3. , 4.8, 1.8],\n",
       "       [5.4, 3.9, 1.3, 0.4]], dtype=float32)>"
      ]
     },
     "execution_count": 16,
     "metadata": {},
     "output_type": "execute_result"
    }
   ],
   "source": [
    "features, labels = next(iter(train_dataset))\n",
    "features"
   ]
  },
  {
   "cell_type": "markdown",
   "metadata": {},
   "source": [
    "## Select Type of Model"
   ]
  },
  {
   "cell_type": "markdown",
   "metadata": {},
   "source": [
    "Train a neural network."
   ]
  },
  {
   "cell_type": "markdown",
   "metadata": {},
   "source": [
    "### Create Model"
   ]
  },
  {
   "cell_type": "code",
   "execution_count": 17,
   "metadata": {},
   "outputs": [
    {
     "data": {
      "text/plain": [
       "<tensorflow.python.keras.engine.sequential.Sequential at 0x7f22dc5e7f98>"
      ]
     },
     "execution_count": 17,
     "metadata": {},
     "output_type": "execute_result"
    }
   ],
   "source": [
    "model = tf.keras.models.Sequential([\n",
    "    # input_shape is required\n",
    "    tf.keras.layers.Dense(10, activation=tf.nn.relu, input_shape=(4,)),\n",
    "    tf.keras.layers.Dense(10, activation=tf.nn.relu),\n",
    "    tf.keras.layers.Dense(3)\n",
    "])\n",
    "model"
   ]
  },
  {
   "cell_type": "markdown",
   "metadata": {},
   "source": [
    "### Use Model"
   ]
  },
  {
   "cell_type": "code",
   "execution_count": 18,
   "metadata": {},
   "outputs": [
    {
     "data": {
      "text/plain": [
       "<tf.Tensor: id=235, shape=(32, 3), dtype=float32, numpy=\n",
       "array([[1.0480794 , 1.1626759 , 0.47564754],\n",
       "       [0.4892422 , 1.0435159 , 0.32138395],\n",
       "       [0.8259181 , 1.0037003 , 0.3951026 ],\n",
       "       [0.9680184 , 1.1103592 , 0.45702478],\n",
       "       [0.50627756, 1.0431877 , 0.32224953],\n",
       "       [1.228515  , 1.6151237 , 0.5574811 ],\n",
       "       [1.0283916 , 1.2388711 , 0.4800216 ],\n",
       "       [0.9663143 , 0.8342975 , 0.41486016],\n",
       "       [1.2164711 , 1.6897619 , 0.57823205],\n",
       "       [0.53633046, 1.123119  , 0.33459383],\n",
       "       [0.8407099 , 1.0769621 , 0.3874837 ],\n",
       "       [0.83359045, 1.3497467 , 0.3759678 ],\n",
       "       [1.1169332 , 0.97069615, 0.47865623],\n",
       "       [0.5897798 , 1.1199688 , 0.35446075],\n",
       "       [0.5136192 , 1.0621033 , 0.32164896],\n",
       "       [0.5156456 , 1.0436144 , 0.32384974],\n",
       "       [0.5853354 , 1.2205501 , 0.3853442 ],\n",
       "       [0.75829107, 0.9128301 , 0.36644068],\n",
       "       [0.6673647 , 1.3566594 , 0.39469594],\n",
       "       [0.54770195, 1.2404133 , 0.33744112],\n",
       "       [0.9685263 , 1.5019716 , 0.44364345],\n",
       "       [0.735746  , 0.8529314 , 0.35368717],\n",
       "       [1.1277125 , 1.8432419 , 0.496655  ],\n",
       "       [0.9138478 , 1.2370093 , 0.44103009],\n",
       "       [0.9471275 , 1.2694942 , 0.44192547],\n",
       "       [0.4765411 , 0.9216778 , 0.30673558],\n",
       "       [0.853556  , 0.88215184, 0.3879909 ],\n",
       "       [0.7851705 , 0.7657405 , 0.3709043 ],\n",
       "       [1.1669958 , 0.98985875, 0.5006809 ],\n",
       "       [1.0687883 , 1.4287491 , 0.497943  ],\n",
       "       [0.98285794, 1.263308  , 0.4533908 ],\n",
       "       [0.62735265, 1.2355521 , 0.3874104 ]], dtype=float32)>"
      ]
     },
     "execution_count": 18,
     "metadata": {},
     "output_type": "execute_result"
    }
   ],
   "source": [
    "predictions = model(features)\n",
    "# a prediction is a \"logit\" for each class\n",
    "predictions"
   ]
  },
  {
   "cell_type": "code",
   "execution_count": 19,
   "metadata": {},
   "outputs": [
    {
     "data": {
      "text/plain": [
       "<tf.Tensor: id=237, shape=(32, 3), dtype=float32, numpy=\n",
       "array([[0.37236005, 0.41757232, 0.21006761],\n",
       "       [0.2788506 , 0.4853886 , 0.23576084],\n",
       "       [0.3515502 , 0.4199496 , 0.2285002 ],\n",
       "       [0.36325744, 0.41882473, 0.21791784],\n",
       "       [0.28227654, 0.48289412, 0.23482938],\n",
       "       [0.33521497, 0.49342987, 0.1713551 ],\n",
       "       [0.35559845, 0.4389044 , 0.20549715],\n",
       "       [0.40775752, 0.35732862, 0.23491377],\n",
       "       [0.31913298, 0.512294  , 0.16857299],\n",
       "       [0.27658582, 0.49735782, 0.2260564 ],\n",
       "       [0.34458187, 0.43641075, 0.2190074 ],\n",
       "       [0.30226448, 0.50646675, 0.1912688 ],\n",
       "       [0.41803315, 0.36116093, 0.22080585],\n",
       "       [0.28656808, 0.48695177, 0.22648008],\n",
       "       [0.28121808, 0.48668376, 0.23209813],\n",
       "       [0.28401342, 0.48154044, 0.23444606],\n",
       "       [0.2698207 , 0.5092669 , 0.22091244],\n",
       "       [0.35175037, 0.41053486, 0.23771474],\n",
       "       [0.266407  , 0.53076535, 0.20282765],\n",
       "       [0.26250154, 0.5247743 , 0.2127241 ],\n",
       "       [0.30335936, 0.5171658 , 0.1794749 ],\n",
       "       [0.35627982, 0.4005753 , 0.24314491],\n",
       "       [0.27954057, 0.57173574, 0.14872365],\n",
       "       [0.33280838, 0.45977092, 0.20742072],\n",
       "       [0.33514598, 0.46263245, 0.2022216 ],\n",
       "       [0.2937261 , 0.45841932, 0.24785455],\n",
       "       [0.3763942 , 0.3873129 , 0.23629284],\n",
       "       [0.37856096, 0.37127653, 0.25016254],\n",
       "       [0.42530337, 0.35626176, 0.21843487],\n",
       "       [0.33352003, 0.47802532, 0.1884547 ],\n",
       "       [0.34333065, 0.45447555, 0.20219386],\n",
       "       [0.2759539 , 0.5069605 , 0.21708554]], dtype=float32)>"
      ]
     },
     "execution_count": 19,
     "metadata": {},
     "output_type": "execute_result"
    }
   ],
   "source": [
    "# convert prediction logits to probabilities\n",
    "tf.nn.softmax(predictions)"
   ]
  },
  {
   "cell_type": "code",
   "execution_count": 20,
   "metadata": {},
   "outputs": [
    {
     "data": {
      "text/plain": [
       "<tf.Tensor: id=240, shape=(32,), dtype=int64, numpy=\n",
       "array([1, 1, 1, 1, 1, 1, 1, 0, 1, 1, 1, 1, 0, 1, 1, 1, 1, 1, 1, 1, 1, 1,\n",
       "       1, 1, 1, 1, 1, 0, 0, 1, 1, 1])>"
      ]
     },
     "execution_count": 20,
     "metadata": {},
     "output_type": "execute_result"
    }
   ],
   "source": [
    "# model is untrained and not very good\n",
    "# predicted labels/classes\n",
    "tf.argmax(predictions, axis=1)"
   ]
  },
  {
   "cell_type": "code",
   "execution_count": 21,
   "metadata": {},
   "outputs": [
    {
     "data": {
      "text/plain": [
       "<tf.Tensor: id=150, shape=(32,), dtype=int32, numpy=\n",
       "array([2, 0, 1, 1, 0, 2, 2, 2, 2, 0, 1, 2, 2, 0, 0, 0, 0, 1, 0, 0, 2, 1,\n",
       "       2, 1, 2, 0, 2, 1, 2, 2, 2, 0], dtype=int32)>"
      ]
     },
     "execution_count": 21,
     "metadata": {},
     "output_type": "execute_result"
    }
   ],
   "source": [
    "# actual labels\n",
    "labels"
   ]
  },
  {
   "cell_type": "markdown",
   "metadata": {},
   "source": [
    "## Train Model"
   ]
  },
  {
   "cell_type": "markdown",
   "metadata": {},
   "source": [
    "### Loss and Gradient Function"
   ]
  },
  {
   "cell_type": "code",
   "execution_count": 22,
   "metadata": {},
   "outputs": [
    {
     "data": {
      "text/plain": [
       "<function __main__.loss(model, features, labels)>"
      ]
     },
     "execution_count": 22,
     "metadata": {},
     "output_type": "execute_result"
    }
   ],
   "source": [
    "def loss(model, features, labels):\n",
    "    logits = model(features)\n",
    "    return tf.losses.sparse_softmax_cross_entropy(labels=labels, logits=logits)\n",
    "\n",
    "loss"
   ]
  },
  {
   "cell_type": "code",
   "execution_count": 23,
   "metadata": {},
   "outputs": [
    {
     "data": {
      "text/plain": [
       "<tf.Tensor: id=288, shape=(), dtype=float32, numpy=1.3431419>"
      ]
     },
     "execution_count": 23,
     "metadata": {},
     "output_type": "execute_result"
    }
   ],
   "source": [
    "loss(model, features, labels)"
   ]
  },
  {
   "cell_type": "code",
   "execution_count": 24,
   "metadata": {},
   "outputs": [
    {
     "data": {
      "text/plain": [
       "<function __main__.grad(model, features, labels)>"
      ]
     },
     "execution_count": 24,
     "metadata": {},
     "output_type": "execute_result"
    }
   ],
   "source": [
    "def grad(model, features, labels):\n",
    "    with tf.GradientTape() as tape:\n",
    "        loss_value = loss(model, features, labels)\n",
    "    return loss_value, tape.gradient(loss_value, model.trainable_variables)\n",
    "\n",
    "grad"
   ]
  },
  {
   "cell_type": "markdown",
   "metadata": {},
   "source": [
    "### Optimizer\n",
    "\n",
    "Stochastic Gradient Descent"
   ]
  },
  {
   "cell_type": "code",
   "execution_count": 25,
   "metadata": {},
   "outputs": [
    {
     "data": {
      "text/plain": [
       "<tensorflow.python.training.gradient_descent.GradientDescentOptimizer at 0x7f22dc508b70>"
      ]
     },
     "execution_count": 25,
     "metadata": {},
     "output_type": "execute_result"
    }
   ],
   "source": [
    "optimizer = tf.train.GradientDescentOptimizer(learning_rate=0.01)\n",
    "optimizer"
   ]
  },
  {
   "cell_type": "code",
   "execution_count": 26,
   "metadata": {},
   "outputs": [
    {
     "data": {
      "text/plain": [
       "<tf.Variable 'Variable:0' shape=() dtype=int32, numpy=0>"
      ]
     },
     "execution_count": 26,
     "metadata": {},
     "output_type": "execute_result"
    }
   ],
   "source": [
    "global_step = tfe.Variable(0)\n",
    "global_step"
   ]
  },
  {
   "cell_type": "code",
   "execution_count": 27,
   "metadata": {},
   "outputs": [
    {
     "data": {
      "text/plain": [
       "(0, 1.3431419)"
      ]
     },
     "execution_count": 27,
     "metadata": {},
     "output_type": "execute_result"
    }
   ],
   "source": [
    "# a single optimization step\n",
    "loss_value, grads = grad(model, features, labels)\n",
    "\n",
    "# global step and initial loss\n",
    "global_step.numpy(), loss_value.numpy()"
   ]
  },
  {
   "cell_type": "code",
   "execution_count": 28,
   "metadata": {},
   "outputs": [
    {
     "data": {
      "text/plain": [
       "(1, 1.2855874)"
      ]
     },
     "execution_count": 28,
     "metadata": {},
     "output_type": "execute_result"
    }
   ],
   "source": [
    "optimizer.apply_gradients(zip(grads, model.variables), global_step)\n",
    "\n",
    "# step, loss\n",
    "global_step.numpy(), loss(model, features, labels).numpy()"
   ]
  },
  {
   "cell_type": "markdown",
   "metadata": {},
   "source": [
    "### Training Loop"
   ]
  },
  {
   "cell_type": "code",
   "execution_count": 29,
   "metadata": {},
   "outputs": [
    {
     "name": "stdout",
     "output_type": "stream",
     "text": [
      "Epoch 000: Loss: 1.224, Accuracy: 10.000%\n",
      "Epoch 010: Loss: 1.048, Accuracy: 32.500%\n",
      "Epoch 020: Loss: 0.997, Accuracy: 45.833%\n",
      "Epoch 030: Loss: 0.929, Accuracy: 66.667%\n",
      "Epoch 040: Loss: 0.833, Accuracy: 69.167%\n",
      "Epoch 050: Loss: 0.729, Accuracy: 70.000%\n",
      "Epoch 060: Loss: 0.642, Accuracy: 70.000%\n",
      "Epoch 070: Loss: 0.576, Accuracy: 70.000%\n",
      "Epoch 080: Loss: 0.531, Accuracy: 70.000%\n",
      "Epoch 090: Loss: 0.481, Accuracy: 70.000%\n",
      "Epoch 100: Loss: 0.459, Accuracy: 70.000%\n",
      "Epoch 110: Loss: 0.433, Accuracy: 74.167%\n",
      "Epoch 120: Loss: 0.404, Accuracy: 76.667%\n",
      "Epoch 130: Loss: 0.386, Accuracy: 85.000%\n",
      "Epoch 140: Loss: 0.362, Accuracy: 91.667%\n",
      "Epoch 150: Loss: 0.351, Accuracy: 90.833%\n",
      "Epoch 160: Loss: 0.328, Accuracy: 89.167%\n",
      "Epoch 170: Loss: 0.302, Accuracy: 94.167%\n",
      "Epoch 180: Loss: 0.268, Accuracy: 96.667%\n",
      "Epoch 190: Loss: 0.265, Accuracy: 95.000%\n",
      "Epoch 200: Loss: 0.237, Accuracy: 95.833%\n"
     ]
    }
   ],
   "source": [
    "train_loss_results = []\n",
    "train_accuracy_results = []\n",
    "\n",
    "num_epochs = 201\n",
    "\n",
    "for epoch in range(num_epochs):\n",
    "    \n",
    "    epoch_loss_avg = tfe.metrics.Mean()\n",
    "    epoch_accuracy = tfe.metrics.Accuracy()\n",
    "    \n",
    "    # training loop in batches\n",
    "    \n",
    "    for x, y in train_dataset:\n",
    "        \n",
    "        loss_value, grads = grad(model, x, y)\n",
    "        optimizer.apply_gradients(zip(grads, model.variables), global_step)\n",
    "        \n",
    "        epoch_loss_avg(loss_value)\n",
    "        epoch_accuracy(tf.argmax(model(x), axis=1, output_type=tf.int32), y)\n",
    "        \n",
    "    train_loss_results.append(epoch_loss_avg.result())\n",
    "    train_accuracy_results.append(epoch_accuracy.result())\n",
    "    \n",
    "    if epoch % 10 == 0:\n",
    "        print(\"Epoch {:03d}: Loss: {:.3f}, Accuracy: {:.3%}\".format(epoch, epoch_loss_avg.result(), epoch_accuracy.result()))"
   ]
  },
  {
   "cell_type": "markdown",
   "metadata": {},
   "source": [
    "### Visualize Loss"
   ]
  },
  {
   "cell_type": "code",
   "execution_count": 30,
   "metadata": {},
   "outputs": [
    {
     "data": {
      "image/png": "[encoded data removed]",
      "text/plain": [
       "<Figure size 864x576 with 2 Axes>"
      ]
     },
     "metadata": {},
     "output_type": "display_data"
    }
   ],
   "source": [
    "fig, axes = plt.subplots(2, sharex=True, figsize=(12, 8))\n",
    "fig.suptitle(\"Training Metrics\")\n",
    "\n",
    "axes[0].set_ylabel(\"Loss\", fontsize=14)\n",
    "axes[0].plot(train_loss_results)\n",
    "axes[1].set_ylabel(\"Accuracy\", fontsize=14)\n",
    "axes[1].set_xlabel(\"Epoch\", fontsize=14)\n",
    "_ = axes[1].plot(train_accuracy_results)"
   ]
  },
  {
   "cell_type": "markdown",
   "metadata": {},
   "source": [
    "## Evaluate Model"
   ]
  },
  {
   "cell_type": "markdown",
   "metadata": {},
   "source": [
    "### Test Dataset"
   ]
  },
  {
   "cell_type": "code",
   "execution_count": 31,
   "metadata": {},
   "outputs": [
    {
     "data": {
      "text/plain": [
       "'/home/ec2-user/.keras/datasets/iris_test.csv'"
      ]
     },
     "execution_count": 31,
     "metadata": {},
     "output_type": "execute_result"
    }
   ],
   "source": [
    "test_data_url = \"http://download.tensorflow.org/data/iris_test.csv\"\n",
    "test_data_filepath = tf.keras.utils.get_file(fname=os.path.basename(test_data_url), origin=test_data_url)\n",
    "\n",
    "test_data_filepath"
   ]
  },
  {
   "cell_type": "code",
   "execution_count": 32,
   "metadata": {},
   "outputs": [
    {
     "data": {
      "text/plain": [
       "<MapDataset shapes: ((?, 4), (?,)), types: (tf.float32, tf.int32)>"
      ]
     },
     "execution_count": 32,
     "metadata": {},
     "output_type": "execute_result"
    }
   ],
   "source": [
    "test_dataset = tf.contrib.data.make_csv_dataset(test_data_filepath, batch_size, column_names=columns, label_name=\"species\",\n",
    "    num_epochs=1, shuffle=False)\n",
    "test_dataset = test_dataset.map(pack_features_vector)\n",
    "test_dataset"
   ]
  },
  {
   "cell_type": "markdown",
   "metadata": {},
   "source": [
    "### Evaluate Model against Test Dataset"
   ]
  },
  {
   "cell_type": "code",
   "execution_count": 33,
   "metadata": {},
   "outputs": [
    {
     "data": {
      "text/plain": [
       "1.0"
      ]
     },
     "execution_count": 33,
     "metadata": {},
     "output_type": "execute_result"
    }
   ],
   "source": [
    "test_accuracy = tfe.metrics.Accuracy()\n",
    "\n",
    "for (x, y) in test_dataset:\n",
    "    logits = model(x)\n",
    "    prediction = tf.argmax(logits, axis=1, output_type=tf.int32)\n",
    "    test_accuracy(prediction, y)\n",
    "    \n",
    "test_accuracy.result().numpy()"
   ]
  },
  {
   "cell_type": "code",
   "execution_count": 34,
   "metadata": {},
   "outputs": [
    {
     "data": {
      "text/plain": [
       "<tf.Tensor: id=115293, shape=(30, 2), dtype=int32, numpy=\n",
       "array([[1, 1],\n",
       "       [2, 2],\n",
       "       [0, 0],\n",
       "       [1, 1],\n",
       "       [1, 1],\n",
       "       [1, 1],\n",
       "       [0, 0],\n",
       "       [2, 2],\n",
       "       [1, 1],\n",
       "       [2, 2],\n",
       "       [2, 2],\n",
       "       [0, 0],\n",
       "       [2, 2],\n",
       "       [1, 1],\n",
       "       [1, 1],\n",
       "       [0, 0],\n",
       "       [1, 1],\n",
       "       [0, 0],\n",
       "       [0, 0],\n",
       "       [2, 2],\n",
       "       [0, 0],\n",
       "       [1, 1],\n",
       "       [2, 2],\n",
       "       [1, 1],\n",
       "       [1, 1],\n",
       "       [1, 1],\n",
       "       [0, 0],\n",
       "       [1, 1],\n",
       "       [2, 2],\n",
       "       [1, 1]], dtype=int32)>"
      ]
     },
     "execution_count": 34,
     "metadata": {},
     "output_type": "execute_result"
    }
   ],
   "source": [
    "# view labels compared to predicted labels\n",
    "tf.stack([y, prediction], axis=1)"
   ]
  },
  {
   "cell_type": "markdown",
   "metadata": {},
   "source": [
    "## Make Predictions"
   ]
  },
  {
   "cell_type": "code",
   "execution_count": 35,
   "metadata": {},
   "outputs": [
    {
     "data": {
      "text/plain": [
       "<tf.Tensor: id=115309, shape=(3, 3), dtype=float32, numpy=\n",
       "array([[ 4.2145777,  0.6997049, -4.5434365],\n",
       "       [-2.1305463,  1.9433603,  0.8076973],\n",
       "       [-4.1149616,  2.0047932,  2.2867265]], dtype=float32)>"
      ]
     },
     "execution_count": 35,
     "metadata": {},
     "output_type": "execute_result"
    }
   ],
   "source": [
    "predict_dataset = tf.convert_to_tensor([\n",
    "    [5.1, 3.3, 1.7, 0.5,],\n",
    "    [5.9, 3.0, 4.2, 1.5,],\n",
    "    [6.9, 3.1, 5.4, 2.1]\n",
    "])\n",
    "predictions = model(predict_dataset)\n",
    "\n",
    "predictions"
   ]
  },
  {
   "cell_type": "code",
   "execution_count": 36,
   "metadata": {},
   "outputs": [
    {
     "name": "stdout",
     "output_type": "stream",
     "text": [
      "0 Iris setosa 97.09597826004028\n",
      "1 Iris versicolor 74.72613453865051\n",
      "2 Iris virginica 56.94816708564758\n"
     ]
    }
   ],
   "source": [
    "for i, logits in enumerate(predictions):\n",
    "    \n",
    "    class_idx = tf.argmax(logits).numpy()\n",
    "    p = tf.nn.softmax(logits)[class_idx]\n",
    "    name = class_names[class_idx]\n",
    "    \n",
    "    print (i, name, 100*p.numpy())"
   ]
  },
  {
   "cell_type": "code",
   "execution_count": null,
   "metadata": {},
   "outputs": [],
   "source": []
  }
 ],
 "metadata": {
  "kernelspec": {
   "display_name": "conda_tensorflow_p36",
   "language": "python",
   "name": "conda_tensorflow_p36"
  },
  "language_info": {
   "codemirror_mode": {
    "name": "ipython",
    "version": 3
   },
   "file_extension": ".py",
   "mimetype": "text/x-python",
   "name": "python",
   "nbconvert_exporter": "python",
   "pygments_lexer": "ipython3",
   "version": "3.6.5"
  }
 },
 "nbformat": 4,
 "nbformat_minor": 2
}
