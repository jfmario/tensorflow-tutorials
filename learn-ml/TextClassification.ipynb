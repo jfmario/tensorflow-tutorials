{
 "cells": [
  {
   "cell_type": "markdown",
   "metadata": {},
   "source": [
    "# Test Classification\n",
    "\n",
    "Binary classification of movie reviews."
   ]
  },
  {
   "cell_type": "code",
   "execution_count": 30,
   "metadata": {},
   "outputs": [],
   "source": [
    "import random\n",
    "\n",
    "import matplotlib.pyplot as plt\n",
    "import numpy as np\n",
    "\n",
    "import tensorflow as tf\n",
    "from tensorflow import keras"
   ]
  },
  {
   "cell_type": "code",
   "execution_count": 2,
   "metadata": {},
   "outputs": [
    {
     "data": {
      "text/plain": [
       "'1.10.0'"
      ]
     },
     "execution_count": 2,
     "metadata": {},
     "output_type": "execute_result"
    }
   ],
   "source": [
    "tf.__version__"
   ]
  },
  {
   "cell_type": "code",
   "execution_count": 31,
   "metadata": {},
   "outputs": [],
   "source": [
    "NUM_EPOCHS = 40\n",
    "VALIDATION_LIMIT = 10000\n",
    "VOCAB_SIZE = 10000"
   ]
  },
  {
   "cell_type": "markdown",
   "metadata": {},
   "source": [
    "## Load Dataset\n",
    "\n",
    "Included IMDB dataset of movie reviews."
   ]
  },
  {
   "cell_type": "code",
   "execution_count": 4,
   "metadata": {},
   "outputs": [],
   "source": [
    "imdb = keras.datasets.imdb\n",
    "# limit data to 10,000 most common words\n",
    "(train_data, train_labels), (test_data, test_labels) = imdb.load_data(num_words=VOCAB_SIZE)"
   ]
  },
  {
   "cell_type": "markdown",
   "metadata": {},
   "source": [
    "## Explore Dataset"
   ]
  },
  {
   "cell_type": "code",
   "execution_count": 5,
   "metadata": {},
   "outputs": [
    {
     "data": {
      "text/plain": [
       "(25000, 25000)"
      ]
     },
     "execution_count": 5,
     "metadata": {},
     "output_type": "execute_result"
    }
   ],
   "source": [
    "len(train_data), len(test_data)"
   ]
  },
  {
   "cell_type": "code",
   "execution_count": 9,
   "metadata": {},
   "outputs": [
    {
     "name": "stdout",
     "output_type": "stream",
     "text": [
      "[1, 14, 20, 9, 44, 6, 1002, 2, 9604, 2, 269, 8, 1277, 6, 1165, 1096, 3036, 2, 2, 37, 2, 35, 5473, 1169, 2854, 34, 6, 1480, 8592, 691, 845, 2464, 4, 1002, 497, 4, 3036, 820, 694, 98, 7828, 14, 20, 2380, 34, 2252, 485, 156, 307, 485, 524, 5, 52, 370, 665, 7, 2579, 1991, 139, 66, 47, 57, 2327, 33, 32, 45, 32, 3174, 5, 4, 3174, 946, 461, 753, 99, 13, 416, 32, 4993, 6, 840, 7, 4, 96, 83, 4, 20, 5, 50, 9, 57, 1653, 489, 103, 15, 549, 18, 4, 627, 63, 272, 52, 64, 1133, 319, 14, 20, 48, 25, 70, 81, 38, 18, 879, 82, 1133, 5564, 149, 4, 20, 891, 234, 83, 4, 20, 88, 45, 32, 4, 172, 8, 4, 130, 357, 1086, 158]\n"
     ]
    }
   ],
   "source": [
    "random_index = random.randint(0, len(train_data))\n",
    "# each number corresponds to a certain word\n",
    "print(train_data[random_index])"
   ]
  },
  {
   "cell_type": "code",
   "execution_count": 11,
   "metadata": {},
   "outputs": [],
   "source": [
    "# word index maps words to numbers\n",
    "word_index = imdb.get_word_index()\n",
    "# first 3 are reserved things\n",
    "word_index = {k:(v+3) for k,v in word_index.items()} \n",
    "word_index[\"<PAD>\"] = 0\n",
    "word_index[\"<START>\"] = 1\n",
    "word_index[\"<UNK>\"] = 2  # unknown\n",
    "word_index[\"<UNUSED>\"] = 3\n",
    "\n",
    "reverse_word_index = dict([(val, key) for (key, val) in word_index.items()])\n",
    "\n",
    "# helper method to do reverse lookup\n",
    "def decode_review(numbers):\n",
    "    return ' '.join([reverse_word_index.get(i, '<???>') for i in numbers])"
   ]
  },
  {
   "cell_type": "code",
   "execution_count": 13,
   "metadata": {},
   "outputs": [
    {
     "data": {
      "text/plain": [
       "'<START> an absolutely wretched waste of film nothing ever happens no ghosts hardly any train no mystery no interest the constant and brutal attempts at comedy are painful everything else is pathetic the premise is idiotic a bunch of people stranded in the middle of no place because their train was held up for less than 3 minutes what and the <UNK> leaves them no place to stay in a heavy storm i think not oh they can walk 4 miles across the dead black fields <UNK> yeah sure or they can force themselves on the <UNK> <UNK> and stay at the <UNK> train station a station which proved to be nothing but deadly boring utterly without ghosts interest or plot br br so very terribly dull that this seems impossible br br this ought to be added to the lost films list <UNK>'"
      ]
     },
     "execution_count": 13,
     "metadata": {},
     "output_type": "execute_result"
    }
   ],
   "source": [
    "# decode a random review\n",
    "random_index = random.randint(0, len(train_data))\n",
    "decode_review(train_data[random_index])"
   ]
  },
  {
   "cell_type": "markdown",
   "metadata": {},
   "source": [
    "## Prepare Data\n",
    "\n",
    "The data must be manipulated to work with a neural network."
   ]
  },
  {
   "cell_type": "code",
   "execution_count": 14,
   "metadata": {},
   "outputs": [],
   "source": [
    "# pad arrays so they all have the same length\n",
    "train_data = keras.preprocessing.sequence.pad_sequences(\n",
    "    train_data,\n",
    "    value=word_index[\"<PAD>\"],\n",
    "    padding='post',\n",
    "    maxlen=256\n",
    ")\n",
    "# do the same thing to test data\n",
    "test_data = keras.preprocessing.sequence.pad_sequences(\n",
    "    test_data,\n",
    "    value=word_index[\"<PAD>\"],\n",
    "    padding='post',\n",
    "    maxlen=256\n",
    ")"
   ]
  },
  {
   "cell_type": "code",
   "execution_count": 16,
   "metadata": {},
   "outputs": [
    {
     "data": {
      "text/plain": [
       "256"
      ]
     },
     "execution_count": 16,
     "metadata": {},
     "output_type": "execute_result"
    }
   ],
   "source": [
    "random_index = random.randint(0, len(train_data))\n",
    "len(train_data[random_index])"
   ]
  },
  {
   "cell_type": "code",
   "execution_count": 17,
   "metadata": {},
   "outputs": [
    {
     "data": {
      "text/plain": [
       "\"<START> this was on the <UNK> <UNK> dvd for blazing <UNK> itself brilliant but not this nowhere did i see mel <UNK> name on here and i can guess why he's got a lot more sense to not be associated with this pilot my <UNK> who would find this funny sure there may be a race issue but for me it just wasn't funny well cause it's simply not funny it's like the writers didn't even try to be funny just to cash in on being tied with blazing <UNK> did they expect this show to go for several seasons when they made this pilot flat out they didn't care it was a quick cash cow which thank god didn't cash out i guess it's useful for historical purposes only or only to demonstrate how stupid and unimaginative hollywood writers can be <PAD> <PAD> <PAD> <PAD> <PAD> <PAD> <PAD> <PAD> <PAD> <PAD> <PAD> <PAD> <PAD> <PAD> <PAD> <PAD> <PAD> <PAD> <PAD> <PAD> <PAD> <PAD> <PAD> <PAD> <PAD> <PAD> <PAD> <PAD> <PAD> <PAD> <PAD> <PAD> <PAD> <PAD> <PAD> <PAD> <PAD> <PAD> <PAD> <PAD> <PAD> <PAD> <PAD> <PAD> <PAD> <PAD> <PAD> <PAD> <PAD> <PAD> <PAD> <PAD> <PAD> <PAD> <PAD> <PAD> <PAD> <PAD> <PAD> <PAD> <PAD> <PAD> <PAD> <PAD> <PAD> <PAD> <PAD> <PAD> <PAD> <PAD> <PAD> <PAD> <PAD> <PAD> <PAD> <PAD> <PAD> <PAD> <PAD> <PAD> <PAD> <PAD> <PAD> <PAD> <PAD> <PAD> <PAD> <PAD> <PAD> <PAD> <PAD> <PAD> <PAD> <PAD> <PAD> <PAD> <PAD> <PAD> <PAD> <PAD> <PAD> <PAD> <PAD> <PAD> <PAD> <PAD> <PAD> <PAD> <PAD> <PAD> <PAD> <PAD> <PAD> <PAD>\""
      ]
     },
     "execution_count": 17,
     "metadata": {},
     "output_type": "execute_result"
    }
   ],
   "source": [
    "random_index = random.randint(0, len(train_data))\n",
    "decode_review(train_data[random_index])"
   ]
  },
  {
   "cell_type": "markdown",
   "metadata": {},
   "source": [
    "## Build Model"
   ]
  },
  {
   "cell_type": "code",
   "execution_count": 20,
   "metadata": {},
   "outputs": [
    {
     "name": "stdout",
     "output_type": "stream",
     "text": [
      "_________________________________________________________________\n",
      "Layer (type)                 Output Shape              Param #   \n",
      "=================================================================\n",
      "embedding (Embedding)        (None, None, 16)          160000    \n",
      "_________________________________________________________________\n",
      "global_average_pooling1d (Gl (None, 16)                0         \n",
      "_________________________________________________________________\n",
      "dense (Dense)                (None, 16)                272       \n",
      "_________________________________________________________________\n",
      "dense_1 (Dense)              (None, 1)                 17        \n",
      "=================================================================\n",
      "Total params: 160,289\n",
      "Trainable params: 160,289\n",
      "Non-trainable params: 0\n",
      "_________________________________________________________________\n"
     ]
    }
   ],
   "source": [
    "model = keras.Sequential()\n",
    "model.add(keras.layers.Embedding(VOCAB_SIZE, 16))\n",
    "model.add(keras.layers.GlobalAveragePooling1D())\n",
    "model.add(keras.layers.Dense(16, activation=tf.nn.relu))\n",
    "model.add(keras.layers.Dense(1, activation=tf.nn.sigmoid))\n",
    "model.summary()"
   ]
  },
  {
   "cell_type": "code",
   "execution_count": 21,
   "metadata": {},
   "outputs": [],
   "source": [
    "# compile model\n",
    "model.compile(\n",
    "    optimizer=tf.train.AdamOptimizer(),\n",
    "    loss='binary_crossentropy',\n",
    "    metrics=['accuracy']\n",
    ")"
   ]
  },
  {
   "cell_type": "markdown",
   "metadata": {},
   "source": [
    "## Create Validation Set\n"
   ]
  },
  {
   "cell_type": "code",
   "execution_count": 23,
   "metadata": {},
   "outputs": [],
   "source": [
    "x_val = train_data[:VALIDATION_LIMIT]\n",
    "partial_x_train = train_data[VALIDATION_LIMIT:]\n",
    "y_val = train_labels[:VALIDATION_LIMIT]\n",
    "partial_y_train = train_labels[VALIDATION_LIMIT:]"
   ]
  },
  {
   "cell_type": "markdown",
   "metadata": {},
   "source": [
    "## Train Model\n"
   ]
  },
  {
   "cell_type": "code",
   "execution_count": 27,
   "metadata": {},
   "outputs": [
    {
     "name": "stdout",
     "output_type": "stream",
     "text": [
      "Train on 15000 samples, validate on 10000 samples\n",
      "Epoch 1/40\n",
      "15000/15000 [==============================] - 1s 62us/step - loss: 0.1875 - acc: 0.9332 - val_loss: 0.2911 - val_acc: 0.8844\n",
      "Epoch 2/40\n",
      "15000/15000 [==============================] - 1s 65us/step - loss: 0.1826 - acc: 0.9361 - val_loss: 0.2898 - val_acc: 0.8849\n",
      "Epoch 3/40\n",
      "15000/15000 [==============================] - 1s 61us/step - loss: 0.1783 - acc: 0.9379 - val_loss: 0.2896 - val_acc: 0.8851\n",
      "Epoch 4/40\n",
      "15000/15000 [==============================] - 1s 63us/step - loss: 0.1740 - acc: 0.9404 - val_loss: 0.2890 - val_acc: 0.8858\n",
      "Epoch 5/40\n",
      "15000/15000 [==============================] - 1s 64us/step - loss: 0.1703 - acc: 0.9425 - val_loss: 0.2883 - val_acc: 0.8858\n",
      "Epoch 6/40\n",
      "15000/15000 [==============================] - 1s 61us/step - loss: 0.1660 - acc: 0.9439 - val_loss: 0.2887 - val_acc: 0.8858\n",
      "Epoch 7/40\n",
      "15000/15000 [==============================] - 1s 63us/step - loss: 0.1625 - acc: 0.9461 - val_loss: 0.2885 - val_acc: 0.8845\n",
      "Epoch 8/40\n",
      "15000/15000 [==============================] - 1s 63us/step - loss: 0.1584 - acc: 0.9475 - val_loss: 0.2884 - val_acc: 0.8855\n",
      "Epoch 9/40\n",
      "15000/15000 [==============================] - 1s 61us/step - loss: 0.1548 - acc: 0.9489 - val_loss: 0.2882 - val_acc: 0.8869\n",
      "Epoch 10/40\n",
      "15000/15000 [==============================] - 1s 64us/step - loss: 0.1514 - acc: 0.9497 - val_loss: 0.2885 - val_acc: 0.8867\n",
      "Epoch 11/40\n",
      "15000/15000 [==============================] - 1s 62us/step - loss: 0.1478 - acc: 0.9525 - val_loss: 0.2891 - val_acc: 0.8862\n",
      "Epoch 12/40\n",
      "15000/15000 [==============================] - 1s 62us/step - loss: 0.1445 - acc: 0.9547 - val_loss: 0.2894 - val_acc: 0.8861\n",
      "Epoch 13/40\n",
      "15000/15000 [==============================] - 1s 62us/step - loss: 0.1413 - acc: 0.9550 - val_loss: 0.2899 - val_acc: 0.8867\n",
      "Epoch 14/40\n",
      "15000/15000 [==============================] - 1s 64us/step - loss: 0.1383 - acc: 0.9567 - val_loss: 0.2916 - val_acc: 0.8851\n",
      "Epoch 15/40\n",
      "15000/15000 [==============================] - 1s 64us/step - loss: 0.1353 - acc: 0.9577 - val_loss: 0.2921 - val_acc: 0.8863\n",
      "Epoch 16/40\n",
      "15000/15000 [==============================] - 1s 62us/step - loss: 0.1331 - acc: 0.9585 - val_loss: 0.2924 - val_acc: 0.8864\n",
      "Epoch 17/40\n",
      "15000/15000 [==============================] - 1s 64us/step - loss: 0.1297 - acc: 0.9599 - val_loss: 0.2945 - val_acc: 0.8867\n",
      "Epoch 18/40\n",
      "15000/15000 [==============================] - 1s 62us/step - loss: 0.1271 - acc: 0.9609 - val_loss: 0.2950 - val_acc: 0.8864\n",
      "Epoch 19/40\n",
      "15000/15000 [==============================] - 1s 64us/step - loss: 0.1237 - acc: 0.9631 - val_loss: 0.2955 - val_acc: 0.8862\n",
      "Epoch 20/40\n",
      "15000/15000 [==============================] - 1s 62us/step - loss: 0.1212 - acc: 0.9633 - val_loss: 0.2965 - val_acc: 0.8863\n",
      "Epoch 21/40\n",
      "15000/15000 [==============================] - 1s 63us/step - loss: 0.1191 - acc: 0.9642 - val_loss: 0.2976 - val_acc: 0.8869\n",
      "Epoch 22/40\n",
      "15000/15000 [==============================] - 1s 62us/step - loss: 0.1159 - acc: 0.9654 - val_loss: 0.2990 - val_acc: 0.8865\n",
      "Epoch 23/40\n",
      "15000/15000 [==============================] - 1s 63us/step - loss: 0.1134 - acc: 0.9661 - val_loss: 0.3009 - val_acc: 0.8861\n",
      "Epoch 24/40\n",
      "15000/15000 [==============================] - 1s 64us/step - loss: 0.1115 - acc: 0.9663 - val_loss: 0.3025 - val_acc: 0.8856\n",
      "Epoch 25/40\n",
      "15000/15000 [==============================] - 1s 63us/step - loss: 0.1086 - acc: 0.9681 - val_loss: 0.3033 - val_acc: 0.8856\n",
      "Epoch 26/40\n",
      "15000/15000 [==============================] - 1s 62us/step - loss: 0.1064 - acc: 0.9695 - val_loss: 0.3051 - val_acc: 0.8863\n",
      "Epoch 27/40\n",
      "15000/15000 [==============================] - 1s 64us/step - loss: 0.1044 - acc: 0.9702 - val_loss: 0.3067 - val_acc: 0.8848\n",
      "Epoch 28/40\n",
      "15000/15000 [==============================] - 1s 64us/step - loss: 0.1021 - acc: 0.9706 - val_loss: 0.3082 - val_acc: 0.8867\n",
      "Epoch 29/40\n",
      "15000/15000 [==============================] - 1s 62us/step - loss: 0.1002 - acc: 0.9720 - val_loss: 0.3110 - val_acc: 0.8850\n",
      "Epoch 30/40\n",
      "15000/15000 [==============================] - 1s 65us/step - loss: 0.0977 - acc: 0.9727 - val_loss: 0.3119 - val_acc: 0.8852\n",
      "Epoch 31/40\n",
      "15000/15000 [==============================] - 1s 62us/step - loss: 0.0954 - acc: 0.9732 - val_loss: 0.3132 - val_acc: 0.8852\n",
      "Epoch 32/40\n",
      "15000/15000 [==============================] - 1s 62us/step - loss: 0.0934 - acc: 0.9742 - val_loss: 0.3161 - val_acc: 0.8842\n",
      "Epoch 33/40\n",
      "15000/15000 [==============================] - 1s 63us/step - loss: 0.0916 - acc: 0.9745 - val_loss: 0.3172 - val_acc: 0.8842\n",
      "Epoch 34/40\n",
      "15000/15000 [==============================] - 1s 61us/step - loss: 0.0895 - acc: 0.9757 - val_loss: 0.3203 - val_acc: 0.8834\n",
      "Epoch 35/40\n",
      "15000/15000 [==============================] - 1s 63us/step - loss: 0.0878 - acc: 0.9755 - val_loss: 0.3219 - val_acc: 0.8832\n",
      "Epoch 36/40\n",
      "15000/15000 [==============================] - 1s 61us/step - loss: 0.0859 - acc: 0.9771 - val_loss: 0.3239 - val_acc: 0.8842\n",
      "Epoch 37/40\n",
      "15000/15000 [==============================] - 1s 61us/step - loss: 0.0839 - acc: 0.9777 - val_loss: 0.3257 - val_acc: 0.8827\n",
      "Epoch 38/40\n",
      "15000/15000 [==============================] - 1s 61us/step - loss: 0.0824 - acc: 0.9777 - val_loss: 0.3278 - val_acc: 0.8824\n",
      "Epoch 39/40\n",
      "15000/15000 [==============================] - 1s 63us/step - loss: 0.0804 - acc: 0.9783 - val_loss: 0.3304 - val_acc: 0.8833\n",
      "Epoch 40/40\n",
      "15000/15000 [==============================] - 1s 61us/step - loss: 0.0787 - acc: 0.9790 - val_loss: 0.3330 - val_acc: 0.8816\n"
     ]
    }
   ],
   "source": [
    "# store model fit process in history var\n",
    "history = model.fit(\n",
    "    partial_x_train,\n",
    "    partial_y_train,\n",
    "    batch_size=512,\n",
    "    epochs=NUM_EPOCHS,\n",
    "    validation_data=(x_val, y_val),\n",
    "    verbose=1\n",
    ")"
   ]
  },
  {
   "cell_type": "code",
   "execution_count": 26,
   "metadata": {},
   "outputs": [
    {
     "name": "stdout",
     "output_type": "stream",
     "text": [
      "25000/25000 [==============================] - 1s 31us/step\n"
     ]
    },
    {
     "data": {
      "text/plain": [
       "[0.3060476396656036, 0.87516]"
      ]
     },
     "execution_count": 26,
     "metadata": {},
     "output_type": "execute_result"
    }
   ],
   "source": [
    "model.evaluate(test_data, test_labels)"
   ]
  },
  {
   "cell_type": "markdown",
   "metadata": {},
   "source": [
    "## Plot Model History\n",
    "\n",
    "Create a graph of accuracy/loss over time"
   ]
  },
  {
   "cell_type": "code",
   "execution_count": 32,
   "metadata": {},
   "outputs": [
    {
     "data": {
      "text/plain": [
       "dict_keys(['val_loss', 'val_acc', 'loss', 'acc'])"
      ]
     },
     "execution_count": 32,
     "metadata": {},
     "output_type": "execute_result"
    }
   ],
   "source": [
    "history_dict = history.history\n",
    "history_dict.keys()"
   ]
  },
  {
   "cell_type": "code",
   "execution_count": 37,
   "metadata": {},
   "outputs": [
    {
     "data": {
      "image/png": "[encoded data removed]",
      "text/plain": [
       "<Figure size 432x288 with 1 Axes>"
      ]
     },
     "metadata": {},
     "output_type": "display_data"
    }
   ],
   "source": [
    "acc = history.history['acc']\n",
    "val_acc = history.history['val_acc']\n",
    "loss = history.history['loss']\n",
    "val_loss = history.history['val_loss']\n",
    "\n",
    "epochs = range(1, len(acc) + 1)\n",
    "plt.plot(epochs, loss, \"bo\", label=\"Training Loss\")\n",
    "\n",
    "plt.title(\"Training & Validation Loss\")\n",
    "plt.xlabel(\"Epochs\")\n",
    "plt.ylabel(\"Loss\")\n",
    "plt.legend()\n",
    "plt.show()"
   ]
  },
  {
   "cell_type": "code",
   "execution_count": 39,
   "metadata": {},
   "outputs": [
    {
     "data": {
      "image/png": "[encoded data removed]",
      "text/plain": [
       "<Figure size 432x288 with 1 Axes>"
      ]
     },
     "metadata": {},
     "output_type": "display_data"
    }
   ],
   "source": [
    "acc_values = history_dict['acc']\n",
    "val_acc_values = history_dict['val_acc']\n",
    "\n",
    "plt.plot(epochs, acc, \"bo\", label=\"Training Accuracy\")\n",
    "plt.plot(epochs, val_acc, \"b\", label=\"Validation Accuracy\")\n",
    "plt.title(\"Training & Validation Accuracy\")\n",
    "plt.xlabel(\"Epochs\")\n",
    "plt.ylabel(\"Accuracy\")\n",
    "plt.legend()\n",
    "plt.show()"
   ]
  },
  {
   "cell_type": "code",
   "execution_count": null,
   "metadata": {},
   "outputs": [],
   "source": []
  }
 ],
 "metadata": {
  "kernelspec": {
   "display_name": "conda_tensorflow_p36",
   "language": "python",
   "name": "conda_tensorflow_p36"
  },
  "language_info": {
   "codemirror_mode": {
    "name": "ipython",
    "version": 3
   },
   "file_extension": ".py",
   "mimetype": "text/x-python",
   "name": "python",
   "nbconvert_exporter": "python",
   "pygments_lexer": "ipython3",
   "version": "3.6.5"
  }
 },
 "nbformat": 4,
 "nbformat_minor": 2
}
