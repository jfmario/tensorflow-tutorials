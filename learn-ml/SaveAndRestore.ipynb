{
 "cells": [
  {
   "cell_type": "code",
   "execution_count": 1,
   "metadata": {},
   "outputs": [],
   "source": [
    "import os\n",
    "\n",
    "import tensorflow as tf\n",
    "from tensorflow import keras"
   ]
  },
  {
   "cell_type": "code",
   "execution_count": 2,
   "metadata": {},
   "outputs": [
    {
     "data": {
      "text/plain": [
       "'1.10.0'"
      ]
     },
     "execution_count": 2,
     "metadata": {},
     "output_type": "execute_result"
    }
   ],
   "source": [
    "tf.__version__"
   ]
  },
  {
   "cell_type": "code",
   "execution_count": 3,
   "metadata": {},
   "outputs": [],
   "source": [
    "CHECKPOINT_PATH = \"checkpoints/save_and_restore_cp.ckpt\"\n",
    "CHECKPOINT_PATH2 = \"checkpoints2/save_and_restore_cp-{epoch:04d}.ckpt\"\n",
    "MANUAL_SAVE_PATH = \"checkpoints3/manual_save\"\n",
    "H5_PATH = \"h5_saves/my_model.h5\"\n",
    "NUM_EPOCHS = 10"
   ]
  },
  {
   "cell_type": "code",
   "execution_count": 4,
   "metadata": {},
   "outputs": [],
   "source": [
    "(train_images, train_labels), (test_images, test_labels) = keras.datasets.mnist.load_data()"
   ]
  },
  {
   "cell_type": "code",
   "execution_count": 5,
   "metadata": {},
   "outputs": [],
   "source": [
    "train_labels = train_labels[:1000]\n",
    "test_labels = test_labels[:1000]\n",
    "\n",
    "train_images = train_images[:1000].reshape(-1, 28 * 28) / 255.0\n",
    "test_images = test_images[:1000].reshape(-1, 28 * 28) / 255.0"
   ]
  },
  {
   "cell_type": "code",
   "execution_count": 6,
   "metadata": {},
   "outputs": [],
   "source": [
    "# define a simple model\n",
    "def create_model():\n",
    "    model = tf.keras.models.Sequential([\n",
    "        keras.layers.Dense(512, activation=tf.nn.relu, input_shape=(784,)),\n",
    "        keras.layers.Dropout(0.02),\n",
    "        keras.layers.Dense(10, activation=tf.nn.softmax)\n",
    "    ])\n",
    "    model.compile(loss=tf.keras.losses.sparse_categorical_crossentropy, metrics=[\"accuracy\"], optimizer=\"adam\")\n",
    "    return model"
   ]
  },
  {
   "cell_type": "code",
   "execution_count": 7,
   "metadata": {},
   "outputs": [
    {
     "name": "stdout",
     "output_type": "stream",
     "text": [
      "_________________________________________________________________\n",
      "Layer (type)                 Output Shape              Param #   \n",
      "=================================================================\n",
      "dense (Dense)                (None, 512)               401920    \n",
      "_________________________________________________________________\n",
      "dropout (Dropout)            (None, 512)               0         \n",
      "_________________________________________________________________\n",
      "dense_1 (Dense)              (None, 10)                5130      \n",
      "=================================================================\n",
      "Total params: 407,050\n",
      "Trainable params: 407,050\n",
      "Non-trainable params: 0\n",
      "_________________________________________________________________\n"
     ]
    }
   ],
   "source": [
    "model = create_model()\n",
    "model.summary()"
   ]
  },
  {
   "cell_type": "markdown",
   "metadata": {},
   "source": [
    "## Checkpoints"
   ]
  },
  {
   "cell_type": "code",
   "execution_count": 8,
   "metadata": {},
   "outputs": [
    {
     "data": {
      "text/plain": [
       "'checkpoints'"
      ]
     },
     "execution_count": 8,
     "metadata": {},
     "output_type": "execute_result"
    }
   ],
   "source": [
    "checkpoint_dir = os.path.dirname(CHECKPOINT_PATH)\n",
    "checkpoint_dir"
   ]
  },
  {
   "cell_type": "code",
   "execution_count": 9,
   "metadata": {},
   "outputs": [
    {
     "name": "stdout",
     "output_type": "stream",
     "text": [
      "Train on 1000 samples, validate on 1000 samples\n",
      "Epoch 1/10\n",
      "1000/1000 [==============================] - 1s 750us/step - loss: 1.1042 - acc: 0.6930 - val_loss: 0.6992 - val_acc: 0.7700\n",
      "\n",
      "Epoch 00001: saving model to checkpoints/save_and_restore_cp.ckpt\n",
      "Epoch 2/10\n",
      "1000/1000 [==============================] - 0s 228us/step - loss: 0.3838 - acc: 0.8950 - val_loss: 0.5151 - val_acc: 0.8400\n",
      "\n",
      "Epoch 00002: saving model to checkpoints/save_and_restore_cp.ckpt\n",
      "Epoch 3/10\n",
      "1000/1000 [==============================] - 0s 230us/step - loss: 0.2592 - acc: 0.9380 - val_loss: 0.4790 - val_acc: 0.8520\n",
      "\n",
      "Epoch 00003: saving model to checkpoints/save_and_restore_cp.ckpt\n",
      "Epoch 4/10\n",
      "1000/1000 [==============================] - 0s 220us/step - loss: 0.1824 - acc: 0.9580 - val_loss: 0.4211 - val_acc: 0.8610\n",
      "\n",
      "Epoch 00004: saving model to checkpoints/save_and_restore_cp.ckpt\n",
      "Epoch 5/10\n",
      "1000/1000 [==============================] - 0s 215us/step - loss: 0.1212 - acc: 0.9820 - val_loss: 0.4122 - val_acc: 0.8650\n",
      "\n",
      "Epoch 00005: saving model to checkpoints/save_and_restore_cp.ckpt\n",
      "Epoch 6/10\n",
      "1000/1000 [==============================] - 0s 210us/step - loss: 0.0937 - acc: 0.9820 - val_loss: 0.4069 - val_acc: 0.8650\n",
      "\n",
      "Epoch 00006: saving model to checkpoints/save_and_restore_cp.ckpt\n",
      "Epoch 7/10\n",
      "1000/1000 [==============================] - 0s 217us/step - loss: 0.0622 - acc: 0.9950 - val_loss: 0.4116 - val_acc: 0.8600\n",
      "\n",
      "Epoch 00007: saving model to checkpoints/save_and_restore_cp.ckpt\n",
      "Epoch 8/10\n",
      "1000/1000 [==============================] - 0s 214us/step - loss: 0.0426 - acc: 0.9990 - val_loss: 0.4125 - val_acc: 0.8630\n",
      "\n",
      "Epoch 00008: saving model to checkpoints/save_and_restore_cp.ckpt\n",
      "Epoch 9/10\n",
      "1000/1000 [==============================] - 0s 212us/step - loss: 0.0338 - acc: 1.0000 - val_loss: 0.4143 - val_acc: 0.8690\n",
      "\n",
      "Epoch 00009: saving model to checkpoints/save_and_restore_cp.ckpt\n",
      "Epoch 10/10\n",
      "1000/1000 [==============================] - 0s 218us/step - loss: 0.0258 - acc: 1.0000 - val_loss: 0.4220 - val_acc: 0.8620\n",
      "\n",
      "Epoch 00010: saving model to checkpoints/save_and_restore_cp.ckpt\n"
     ]
    },
    {
     "data": {
      "text/plain": [
       "<tensorflow.python.keras.callbacks.History at 0x7f38b0443a90>"
      ]
     },
     "execution_count": 9,
     "metadata": {},
     "output_type": "execute_result"
    }
   ],
   "source": [
    "cp_callback = tf.keras.callbacks.ModelCheckpoint(CHECKPOINT_PATH, save_weights_only=True, verbose=1)\n",
    "\n",
    "model = create_model()\n",
    "model.fit(train_images, train_labels, callbacks=[cp_callback], epochs=NUM_EPOCHS, validation_data=(test_images, test_labels))"
   ]
  },
  {
   "cell_type": "code",
   "execution_count": 10,
   "metadata": {},
   "outputs": [
    {
     "name": "stdout",
     "output_type": "stream",
     "text": [
      "checkpoint\t\t\t\t      save_and_restore_cp.ckpt.index\r\n",
      "save_and_restore_cp.ckpt.data-00000-of-00001\r\n"
     ]
    }
   ],
   "source": [
    "!ls {checkpoint_dir}"
   ]
  },
  {
   "cell_type": "markdown",
   "metadata": {},
   "source": [
    "Evaluate an untrained model (low accuracy)."
   ]
  },
  {
   "cell_type": "code",
   "execution_count": 11,
   "metadata": {},
   "outputs": [
    {
     "name": "stdout",
     "output_type": "stream",
     "text": [
      "1000/1000 [==============================] - 0s 167us/step\n",
      "Untrained model, accuracy:  9.00%\n"
     ]
    }
   ],
   "source": [
    "model = create_model()\n",
    "loss, acc = model.evaluate(test_images, test_labels)\n",
    "\n",
    "print(\"Untrained model, accuracy: {:5.2f}%\".format(100.0 * acc))"
   ]
  },
  {
   "cell_type": "markdown",
   "metadata": {},
   "source": [
    "Load weights from checkpoint and re-evaluate."
   ]
  },
  {
   "cell_type": "code",
   "execution_count": 12,
   "metadata": {},
   "outputs": [
    {
     "name": "stdout",
     "output_type": "stream",
     "text": [
      "1000/1000 [==============================] - 0s 37us/step\n",
      "Restored model, accuracy: 86.20%\n"
     ]
    }
   ],
   "source": [
    "model.load_weights(CHECKPOINT_PATH)\n",
    "loss, acc = model.evaluate(test_images, test_labels)\n",
    "\n",
    "print(\"Restored model, accuracy: {:5.2f}%\".format(100.0 * acc))"
   ]
  },
  {
   "cell_type": "markdown",
   "metadata": {},
   "source": [
    "### Detailed checkpoint usage"
   ]
  },
  {
   "cell_type": "code",
   "execution_count": 13,
   "metadata": {},
   "outputs": [
    {
     "data": {
      "text/plain": [
       "'checkpoints2'"
      ]
     },
     "execution_count": 13,
     "metadata": {},
     "output_type": "execute_result"
    }
   ],
   "source": [
    "checkpoint_dir = os.path.dirname(CHECKPOINT_PATH2)\n",
    "checkpoint_dir"
   ]
  },
  {
   "cell_type": "code",
   "execution_count": 14,
   "metadata": {},
   "outputs": [
    {
     "name": "stdout",
     "output_type": "stream",
     "text": [
      "Train on 1000 samples, validate on 1000 samples\n",
      "Epoch 1/20\n",
      "1000/1000 [==============================] - 1s 730us/step - loss: 1.1024 - acc: 0.7040 - val_loss: 0.6897 - val_acc: 0.7860\n",
      "Epoch 2/20\n",
      "1000/1000 [==============================] - 0s 257us/step - loss: 0.3914 - acc: 0.8930 - val_loss: 0.5784 - val_acc: 0.8080\n",
      "Epoch 3/20\n",
      "1000/1000 [==============================] - 0s 223us/step - loss: 0.2669 - acc: 0.9240 - val_loss: 0.4986 - val_acc: 0.8370\n",
      "Epoch 4/20\n",
      "1000/1000 [==============================] - 0s 222us/step - loss: 0.1737 - acc: 0.9580 - val_loss: 0.4484 - val_acc: 0.8580\n",
      "Epoch 5/20\n",
      "1000/1000 [==============================] - 0s 214us/step - loss: 0.1251 - acc: 0.9760 - val_loss: 0.4486 - val_acc: 0.8630\n",
      "\n",
      "Epoch 00005: saving model to checkpoints2/save_and_restore_cp-0005.ckpt\n",
      "Epoch 6/20\n",
      "1000/1000 [==============================] - 0s 230us/step - loss: 0.0869 - acc: 0.9890 - val_loss: 0.4285 - val_acc: 0.8670\n",
      "Epoch 7/20\n",
      "1000/1000 [==============================] - 0s 226us/step - loss: 0.0643 - acc: 0.9940 - val_loss: 0.4228 - val_acc: 0.8630\n",
      "Epoch 8/20\n",
      "1000/1000 [==============================] - 0s 220us/step - loss: 0.0509 - acc: 0.9980 - val_loss: 0.4270 - val_acc: 0.8630\n",
      "Epoch 9/20\n",
      "1000/1000 [==============================] - 0s 209us/step - loss: 0.0334 - acc: 1.0000 - val_loss: 0.4241 - val_acc: 0.8650\n",
      "Epoch 10/20\n",
      "1000/1000 [==============================] - 0s 212us/step - loss: 0.0273 - acc: 1.0000 - val_loss: 0.4326 - val_acc: 0.8590\n",
      "\n",
      "Epoch 00010: saving model to checkpoints2/save_and_restore_cp-0010.ckpt\n",
      "Epoch 11/20\n",
      "1000/1000 [==============================] - 0s 215us/step - loss: 0.0218 - acc: 1.0000 - val_loss: 0.4284 - val_acc: 0.8690\n",
      "Epoch 12/20\n",
      "1000/1000 [==============================] - 0s 219us/step - loss: 0.0172 - acc: 1.0000 - val_loss: 0.4316 - val_acc: 0.8690\n",
      "Epoch 13/20\n",
      "1000/1000 [==============================] - 0s 234us/step - loss: 0.0139 - acc: 1.0000 - val_loss: 0.4343 - val_acc: 0.8670\n",
      "Epoch 14/20\n",
      "1000/1000 [==============================] - 0s 227us/step - loss: 0.0121 - acc: 1.0000 - val_loss: 0.4342 - val_acc: 0.8650\n",
      "Epoch 15/20\n",
      "1000/1000 [==============================] - 0s 212us/step - loss: 0.0105 - acc: 1.0000 - val_loss: 0.4384 - val_acc: 0.8640\n",
      "\n",
      "Epoch 00015: saving model to checkpoints2/save_and_restore_cp-0015.ckpt\n",
      "Epoch 16/20\n",
      "1000/1000 [==============================] - 0s 227us/step - loss: 0.0088 - acc: 1.0000 - val_loss: 0.4455 - val_acc: 0.8640\n",
      "Epoch 17/20\n",
      "1000/1000 [==============================] - 0s 215us/step - loss: 0.0078 - acc: 1.0000 - val_loss: 0.4422 - val_acc: 0.8680\n",
      "Epoch 18/20\n",
      "1000/1000 [==============================] - 0s 217us/step - loss: 0.0071 - acc: 1.0000 - val_loss: 0.4531 - val_acc: 0.8680\n",
      "Epoch 19/20\n",
      "1000/1000 [==============================] - 0s 226us/step - loss: 0.0062 - acc: 1.0000 - val_loss: 0.4475 - val_acc: 0.8700\n",
      "Epoch 20/20\n",
      "1000/1000 [==============================] - 0s 227us/step - loss: 0.0054 - acc: 1.0000 - val_loss: 0.4519 - val_acc: 0.8700\n",
      "\n",
      "Epoch 00020: saving model to checkpoints2/save_and_restore_cp-0020.ckpt\n"
     ]
    },
    {
     "data": {
      "text/plain": [
       "<tensorflow.python.keras.callbacks.History at 0x7f38b0443a58>"
      ]
     },
     "execution_count": 14,
     "metadata": {},
     "output_type": "execute_result"
    }
   ],
   "source": [
    "# configure to save weights every 5 epochs\n",
    "cp_callback = tf.keras.callbacks.ModelCheckpoint(CHECKPOINT_PATH2, period=5, save_weights_only=True, verbose=1)\n",
    "\n",
    "model = create_model()\n",
    "model.fit(train_images, train_labels, callbacks=[cp_callback], epochs=NUM_EPOCHS * 2, validation_data=(test_images, test_labels))"
   ]
  },
  {
   "cell_type": "code",
   "execution_count": 15,
   "metadata": {},
   "outputs": [
    {
     "name": "stdout",
     "output_type": "stream",
     "text": [
      "checkpoint\r\n",
      "save_and_restore_cp-0005.ckpt.data-00000-of-00001\r\n",
      "save_and_restore_cp-0005.ckpt.index\r\n",
      "save_and_restore_cp-0010.ckpt.data-00000-of-00001\r\n",
      "save_and_restore_cp-0010.ckpt.index\r\n",
      "save_and_restore_cp-0015.ckpt.data-00000-of-00001\r\n",
      "save_and_restore_cp-0015.ckpt.index\r\n",
      "save_and_restore_cp-0020.ckpt.data-00000-of-00001\r\n",
      "save_and_restore_cp-0020.ckpt.index\r\n"
     ]
    }
   ],
   "source": [
    "!ls {checkpoint_dir}"
   ]
  },
  {
   "cell_type": "markdown",
   "metadata": {},
   "source": [
    "Restore latest checkpoint from file."
   ]
  },
  {
   "cell_type": "code",
   "execution_count": 16,
   "metadata": {},
   "outputs": [
    {
     "data": {
      "text/plain": [
       "'checkpoints2/save_and_restore_cp-0020.ckpt'"
      ]
     },
     "execution_count": 16,
     "metadata": {},
     "output_type": "execute_result"
    }
   ],
   "source": [
    "latest_checkpoint_file = tf.train.latest_checkpoint(checkpoint_dir)\n",
    "latest_checkpoint_file"
   ]
  },
  {
   "cell_type": "code",
   "execution_count": 17,
   "metadata": {},
   "outputs": [
    {
     "name": "stdout",
     "output_type": "stream",
     "text": [
      "1000/1000 [==============================] - 0s 118us/step\n",
      "Restored model, accuracy: 87.00%\n"
     ]
    }
   ],
   "source": [
    "model = create_model()\n",
    "model.load_weights(latest_checkpoint_file)\n",
    "loss, acc = model.evaluate(test_images, test_labels)\n",
    "\n",
    "print(\"Restored model, accuracy: {:5.2f}%\".format(100.0 * acc))"
   ]
  },
  {
   "cell_type": "markdown",
   "metadata": {},
   "source": [
    "## Manual Saving"
   ]
  },
  {
   "cell_type": "code",
   "execution_count": 18,
   "metadata": {},
   "outputs": [],
   "source": [
    "model.save_weights(MANUAL_SAVE_PATH)"
   ]
  },
  {
   "cell_type": "code",
   "execution_count": 19,
   "metadata": {},
   "outputs": [
    {
     "name": "stdout",
     "output_type": "stream",
     "text": [
      "checkpoint  manual_save.data-00000-of-00001  manual_save.index\r\n"
     ]
    }
   ],
   "source": [
    "!ls checkpoints3"
   ]
  },
  {
   "cell_type": "code",
   "execution_count": 20,
   "metadata": {},
   "outputs": [
    {
     "name": "stdout",
     "output_type": "stream",
     "text": [
      "1000/1000 [==============================] - 0s 125us/step\n",
      "Manually restored model, accuracy: 87.00%\n"
     ]
    }
   ],
   "source": [
    "# new model\n",
    "model = create_model()\n",
    "# restore\n",
    "model.load_weights(MANUAL_SAVE_PATH)\n",
    "\n",
    "loss, acc = model.evaluate(test_images, test_labels)\n",
    "\n",
    "print(\"Manually restored model, accuracy: {:5.2f}%\".format(100.0 * acc))"
   ]
  },
  {
   "cell_type": "markdown",
   "metadata": {},
   "source": [
    "## Saving Entire Models"
   ]
  },
  {
   "cell_type": "code",
   "execution_count": 21,
   "metadata": {},
   "outputs": [
    {
     "name": "stdout",
     "output_type": "stream",
     "text": [
      "mkdir: cannot create directory ‘h5_saves’: File exists\r\n"
     ]
    }
   ],
   "source": [
    "!mkdir h5_saves"
   ]
  },
  {
   "cell_type": "markdown",
   "metadata": {},
   "source": [
    "Save to H5 format."
   ]
  },
  {
   "cell_type": "code",
   "execution_count": 22,
   "metadata": {},
   "outputs": [
    {
     "name": "stdout",
     "output_type": "stream",
     "text": [
      "Epoch 1/5\n",
      "1000/1000 [==============================] - 1s 671us/step - loss: 1.0878 - acc: 0.6940\n",
      "Epoch 2/5\n",
      "1000/1000 [==============================] - 0s 188us/step - loss: 0.3924 - acc: 0.8910\n",
      "Epoch 3/5\n",
      "1000/1000 [==============================] - 0s 228us/step - loss: 0.2457 - acc: 0.9370\n",
      "Epoch 4/5\n",
      "1000/1000 [==============================] - 0s 317us/step - loss: 0.1844 - acc: 0.9600\n",
      "Epoch 5/5\n",
      "1000/1000 [==============================] - 2s 2ms/step - loss: 0.1242 - acc: 0.9790\n"
     ]
    }
   ],
   "source": [
    "model = create_model()\n",
    "model.fit(train_images, train_labels, epochs=int(NUM_EPOCHS/2.0))\n",
    "model.save(H5_PATH)"
   ]
  },
  {
   "cell_type": "code",
   "execution_count": 23,
   "metadata": {},
   "outputs": [
    {
     "name": "stdout",
     "output_type": "stream",
     "text": [
      "my_model.h5\r\n"
     ]
    }
   ],
   "source": [
    "!ls h5_saves"
   ]
  },
  {
   "cell_type": "markdown",
   "metadata": {},
   "source": [
    "Load saved model."
   ]
  },
  {
   "cell_type": "code",
   "execution_count": 24,
   "metadata": {},
   "outputs": [
    {
     "name": "stdout",
     "output_type": "stream",
     "text": [
      "_________________________________________________________________\n",
      "Layer (type)                 Output Shape              Param #   \n",
      "=================================================================\n",
      "dense_12 (Dense)             (None, 512)               401920    \n",
      "_________________________________________________________________\n",
      "dropout_6 (Dropout)          (None, 512)               0         \n",
      "_________________________________________________________________\n",
      "dense_13 (Dense)             (None, 10)                5130      \n",
      "=================================================================\n",
      "Total params: 407,050\n",
      "Trainable params: 407,050\n",
      "Non-trainable params: 0\n",
      "_________________________________________________________________\n"
     ]
    }
   ],
   "source": [
    "new_model = keras.models.load_model(H5_PATH)\n",
    "new_model.summary()"
   ]
  },
  {
   "cell_type": "code",
   "execution_count": 25,
   "metadata": {},
   "outputs": [
    {
     "name": "stdout",
     "output_type": "stream",
     "text": [
      "1000/1000 [==============================] - 0s 150us/step\n",
      "Fully restored model, accuracy: 85.80%\n"
     ]
    }
   ],
   "source": [
    "loss, acc = new_model.evaluate(test_images, test_labels)\n",
    "\n",
    "print(\"Fully restored model, accuracy: {:5.2f}%\".format(100.0 * acc))"
   ]
  },
  {
   "cell_type": "code",
   "execution_count": null,
   "metadata": {},
   "outputs": [],
   "source": []
  }
 ],
 "metadata": {
  "kernelspec": {
   "display_name": "conda_tensorflow_p36",
   "language": "python",
   "name": "conda_tensorflow_p36"
  },
  "language_info": {
   "codemirror_mode": {
    "name": "ipython",
    "version": 3
   },
   "file_extension": ".py",
   "mimetype": "text/x-python",
   "name": "python",
   "nbconvert_exporter": "python",
   "pygments_lexer": "ipython3",
   "version": "3.6.5"
  }
 },
 "nbformat": 4,
 "nbformat_minor": 2
}
